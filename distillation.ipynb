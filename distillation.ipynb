{
  "cells": [
    {
      "cell_type": "markdown",
      "metadata": {
        "id": "jTX8WUVmx3I8"
      },
      "source": [
        "# Colab init"
      ]
    },
    {
      "cell_type": "code",
      "execution_count": 1,
      "metadata": {
        "colab": {
          "base_uri": "https://localhost:8080/"
        },
        "id": "TXfKxGpmEAEB",
        "outputId": "e6cc9435-a2c8-4e2d-ea36-8ceb6e335e7f"
      },
      "outputs": [
        {
          "name": "stdout",
          "output_type": "stream",
          "text": [
            "Mounted at /content/drive\n"
          ]
        }
      ],
      "source": [
        "from google.colab import drive\n",
        "drive.mount('/content/drive')"
      ]
    },
    {
      "cell_type": "code",
      "execution_count": 2,
      "metadata": {
        "colab": {
          "base_uri": "https://localhost:8080/"
        },
        "id": "vlOuswuPJXE9",
        "outputId": "d93d1bf9-f979-4c0b-86d6-e365a1ab9112"
      },
      "outputs": [
        {
          "name": "stdout",
          "output_type": "stream",
          "text": [
            "/content/drive/MyDrive/MLEX3\n"
          ]
        }
      ],
      "source": [
        "import sys\n",
        "import os\n",
        "sys.path.append(\"/content/drive/MyDrive/MLEX3\")\n",
        "%cd /content/drive/MyDrive/MLEX3/"
      ]
    },
    {
      "cell_type": "code",
      "execution_count": 3,
      "metadata": {
        "colab": {
          "base_uri": "https://localhost:8080/"
        },
        "id": "wkYL6rmikVOC",
        "outputId": "c300a738-283f-47f7-ee3f-335c6810a499"
      },
      "outputs": [
        {
          "name": "stdout",
          "output_type": "stream",
          "text": [
            "Collecting adversarial-robustness-toolbox\n",
            "  Downloading adversarial_robustness_toolbox-1.18.1-py3-none-any.whl.metadata (11 kB)\n",
            "Requirement already satisfied: numpy>=1.18.0 in /usr/local/lib/python3.10/dist-packages (from adversarial-robustness-toolbox) (1.25.2)\n",
            "Requirement already satisfied: scipy>=1.4.1 in /usr/local/lib/python3.10/dist-packages (from adversarial-robustness-toolbox) (1.11.4)\n",
            "Requirement already satisfied: scikit-learn>=0.22.2 in /usr/local/lib/python3.10/dist-packages (from adversarial-robustness-toolbox) (1.2.2)\n",
            "Requirement already satisfied: six in /usr/local/lib/python3.10/dist-packages (from adversarial-robustness-toolbox) (1.16.0)\n",
            "Requirement already satisfied: setuptools in /usr/local/lib/python3.10/dist-packages (from adversarial-robustness-toolbox) (71.0.4)\n",
            "Requirement already satisfied: tqdm in /usr/local/lib/python3.10/dist-packages (from adversarial-robustness-toolbox) (4.66.4)\n",
            "Requirement already satisfied: joblib>=1.1.1 in /usr/local/lib/python3.10/dist-packages (from scikit-learn>=0.22.2->adversarial-robustness-toolbox) (1.4.2)\n",
            "Requirement already satisfied: threadpoolctl>=2.0.0 in /usr/local/lib/python3.10/dist-packages (from scikit-learn>=0.22.2->adversarial-robustness-toolbox) (3.5.0)\n",
            "Downloading adversarial_robustness_toolbox-1.18.1-py3-none-any.whl (1.7 MB)\n",
            "\u001b[?25l   \u001b[90m━━━━━━━━━━━━━━━━━━━━━━━━━━━━━━━━━━━━━━━━\u001b[0m \u001b[32m0.0/1.7 MB\u001b[0m \u001b[31m?\u001b[0m eta \u001b[36m-:--:--\u001b[0m\r\u001b[2K   \u001b[91m━━━━━━━━━━━━━━━━━━━━━━━━━━━━━━━━━━━━━━━\u001b[0m\u001b[91m╸\u001b[0m \u001b[32m1.7/1.7 MB\u001b[0m \u001b[31m90.3 MB/s\u001b[0m eta \u001b[36m0:00:01\u001b[0m\r\u001b[2K   \u001b[90m━━━━━━━━━━━━━━━━━━━━━━━━━━━━━━━━━━━━━━━━\u001b[0m \u001b[32m1.7/1.7 MB\u001b[0m \u001b[31m46.6 MB/s\u001b[0m eta \u001b[36m0:00:00\u001b[0m\n",
            "\u001b[?25hInstalling collected packages: adversarial-robustness-toolbox\n",
            "Successfully installed adversarial-robustness-toolbox-1.18.1\n"
          ]
        }
      ],
      "source": [
        "!pip install adversarial-robustness-toolbox"
      ]
    },
    {
      "cell_type": "markdown",
      "metadata": {
        "id": "RfgjKr3Zx8yf"
      },
      "source": [
        "# Libraries"
      ]
    },
    {
      "cell_type": "code",
      "execution_count": 4,
      "metadata": {
        "id": "HFvi4blfHZt6"
      },
      "outputs": [],
      "source": [
        "import numpy as np\n",
        "import matplotlib.pyplot as plt\n",
        "import os\n",
        "from PIL import Image\n",
        "\n",
        "from skimage.metrics import structural_similarity as ssim\n",
        "from skimage.metrics import peak_signal_noise_ratio as psnr\n",
        "\n",
        "import tensorflow as tf\n",
        "from tensorflow.keras.models import Sequential\n",
        "from tensorflow.keras.layers import Conv2D, MaxPooling2D, Dense, Flatten, Dropout, Softmax, Lambda\n",
        "from tensorflow.keras.callbacks import EarlyStopping\n",
        "from tensorflow.keras.losses import SparseCategoricalCrossentropy\n",
        "from tensorflow.keras.utils import to_categorical\n",
        "\n",
        "from sklearn.model_selection import train_test_split\n",
        "\n",
        "from art.estimators.classification import TensorFlowV2Classifier\n",
        "from art.attacks.evasion import FastGradientMethod\n",
        "from art.attacks.evasion import BasicIterativeMethod\n",
        "from art.attacks.evasion import CarliniL2Method\n",
        "from art.attacks.evasion import UniversalPerturbation"
      ]
    },
    {
      "cell_type": "markdown",
      "metadata": {
        "id": "LKF3R5bbyB-2"
      },
      "source": [
        "# Loading and splitting dataset"
      ]
    },
    {
      "cell_type": "code",
      "execution_count": 5,
      "metadata": {
        "id": "C_6Mw-dn9Q2M"
      },
      "outputs": [],
      "source": [
        "def load_dataset(directory, size=(64,64)):\n",
        "    X, y = [], []\n",
        "    for folder in os.listdir(directory):\n",
        "        label = int(folder[1:])  # folders 's1', 's2'...\n",
        "        folder_path = os.path.join(directory, folder)\n",
        "        for filename in os.listdir(folder_path):\n",
        "            image_path = os.path.join(folder_path, filename)\n",
        "            image = Image.open(image_path)\n",
        "            image = image.resize(size) # resize to 64x64\n",
        "            X.append(np.array(image))\n",
        "            y.append(label)\n",
        "    X = np.array(X) / 255.0  # normalize\n",
        "    y = np.array(y) - 1  # labels start 0, not 1\n",
        "    return X, y"
      ]
    },
    {
      "cell_type": "code",
      "execution_count": 6,
      "metadata": {
        "id": "vcWvnRFeAEgt"
      },
      "outputs": [],
      "source": [
        "X, y = load_dataset('data/')\n",
        "X_train, X_test, y_train, y_test = train_test_split(X, y, test_size=0.2, random_state=42)\n",
        "X_train, X_val, y_train, y_val = train_test_split(X_train, y_train, test_size=0.25, random_state=42)\n",
        "\n",
        "X_train = X_train.reshape((-1, 64, 64, 1))\n",
        "X_val = X_val.reshape((-1, 64, 64, 1))\n",
        "X_test = X_test.reshape((-1, 64, 64, 1))"
      ]
    },
    {
      "cell_type": "markdown",
      "metadata": {
        "id": "v-4OcTr8yIaV"
      },
      "source": [
        "# Build and train model"
      ]
    },
    {
      "cell_type": "code",
      "execution_count": 7,
      "metadata": {
        "id": "-Q9n_yy1PHsP"
      },
      "outputs": [],
      "source": [
        "def build_model(input_shape):\n",
        "    model = Sequential([\n",
        "        Conv2D(32, (3, 3), activation='relu', input_shape=input_shape),\n",
        "        MaxPooling2D(2, 2),\n",
        "        Conv2D(64, (3, 3), activation='relu'),\n",
        "        MaxPooling2D(2, 2),\n",
        "        Flatten(),\n",
        "        Dense(128, activation='relu'),\n",
        "        Dropout(0.25),\n",
        "        Dense(40, activation='softmax')  # 40 classes\n",
        "    ])\n",
        "    model.compile(optimizer='adam', loss='sparse_categorical_crossentropy', metrics=['accuracy'])\n",
        "    return model"
      ]
    },
    {
      "cell_type": "code",
      "execution_count": 8,
      "metadata": {
        "colab": {
          "base_uri": "https://localhost:8080/"
        },
        "id": "aNyT7yavRb_K",
        "outputId": "1d369514-946d-40aa-85a2-93936684ae06"
      },
      "outputs": [
        {
          "name": "stdout",
          "output_type": "stream",
          "text": [
            "Epoch 1/50\n",
            "15/15 [==============================] - 6s 20ms/step - loss: 3.7322 - accuracy: 0.0250 - val_loss: 3.6888 - val_accuracy: 0.0375\n",
            "Epoch 2/50\n",
            "15/15 [==============================] - 0s 7ms/step - loss: 3.6686 - accuracy: 0.0500 - val_loss: 3.6795 - val_accuracy: 0.0125\n",
            "Epoch 3/50\n",
            "15/15 [==============================] - 0s 7ms/step - loss: 3.5824 - accuracy: 0.0875 - val_loss: 3.6297 - val_accuracy: 0.0375\n",
            "Epoch 4/50\n",
            "15/15 [==============================] - 0s 7ms/step - loss: 3.3908 - accuracy: 0.1792 - val_loss: 3.4162 - val_accuracy: 0.2000\n",
            "Epoch 5/50\n",
            "15/15 [==============================] - 0s 8ms/step - loss: 2.9273 - accuracy: 0.2833 - val_loss: 2.9910 - val_accuracy: 0.2875\n",
            "Epoch 6/50\n",
            "15/15 [==============================] - 0s 8ms/step - loss: 2.2341 - accuracy: 0.4500 - val_loss: 2.2546 - val_accuracy: 0.4750\n",
            "Epoch 7/50\n",
            "15/15 [==============================] - 0s 8ms/step - loss: 1.5762 - accuracy: 0.5833 - val_loss: 1.6766 - val_accuracy: 0.6125\n",
            "Epoch 8/50\n",
            "15/15 [==============================] - 0s 7ms/step - loss: 1.0227 - accuracy: 0.7167 - val_loss: 1.2609 - val_accuracy: 0.6625\n",
            "Epoch 9/50\n",
            "15/15 [==============================] - 0s 8ms/step - loss: 0.7810 - accuracy: 0.7958 - val_loss: 1.0082 - val_accuracy: 0.7625\n",
            "Epoch 10/50\n",
            "15/15 [==============================] - 0s 7ms/step - loss: 0.5532 - accuracy: 0.8500 - val_loss: 0.7853 - val_accuracy: 0.8000\n",
            "Epoch 11/50\n",
            "15/15 [==============================] - 0s 7ms/step - loss: 0.4381 - accuracy: 0.9000 - val_loss: 0.6282 - val_accuracy: 0.8625\n",
            "Epoch 12/50\n",
            "15/15 [==============================] - 0s 8ms/step - loss: 0.2287 - accuracy: 0.9458 - val_loss: 0.3753 - val_accuracy: 0.9250\n",
            "Epoch 13/50\n",
            "15/15 [==============================] - 0s 6ms/step - loss: 0.1785 - accuracy: 0.9417 - val_loss: 0.5029 - val_accuracy: 0.9000\n",
            "Epoch 14/50\n",
            "15/15 [==============================] - 0s 7ms/step - loss: 0.1657 - accuracy: 0.9583 - val_loss: 0.3335 - val_accuracy: 0.9625\n",
            "Epoch 15/50\n",
            "15/15 [==============================] - 0s 7ms/step - loss: 0.1492 - accuracy: 0.9625 - val_loss: 0.4174 - val_accuracy: 0.8875\n",
            "Epoch 16/50\n",
            "15/15 [==============================] - 0s 7ms/step - loss: 0.1238 - accuracy: 0.9667 - val_loss: 0.2933 - val_accuracy: 0.9500\n",
            "Epoch 17/50\n",
            "15/15 [==============================] - 0s 8ms/step - loss: 0.0959 - accuracy: 0.9833 - val_loss: 0.3239 - val_accuracy: 0.9625\n",
            "Epoch 18/50\n",
            "15/15 [==============================] - 0s 7ms/step - loss: 0.0718 - accuracy: 0.9833 - val_loss: 0.2473 - val_accuracy: 0.9500\n",
            "Epoch 19/50\n",
            "15/15 [==============================] - 0s 7ms/step - loss: 0.0878 - accuracy: 0.9708 - val_loss: 0.3211 - val_accuracy: 0.9375\n",
            "Epoch 20/50\n",
            "15/15 [==============================] - 0s 6ms/step - loss: 0.0986 - accuracy: 0.9625 - val_loss: 0.3113 - val_accuracy: 0.9500\n",
            "Epoch 21/50\n",
            "15/15 [==============================] - 0s 6ms/step - loss: 0.0998 - accuracy: 0.9875 - val_loss: 0.2896 - val_accuracy: 0.9500\n",
            "Epoch 22/50\n",
            "15/15 [==============================] - 0s 7ms/step - loss: 0.0552 - accuracy: 0.9833 - val_loss: 0.2600 - val_accuracy: 0.9500\n",
            "Epoch 23/50\n",
            "14/15 [===========================>..] - ETA: 0s - loss: 0.0940 - accuracy: 0.9777Restoring model weights from the end of the best epoch: 18.\n",
            "15/15 [==============================] - 0s 8ms/step - loss: 0.0998 - accuracy: 0.9792 - val_loss: 0.3125 - val_accuracy: 0.9500\n",
            "Epoch 23: early stopping\n"
          ]
        }
      ],
      "source": [
        "model = build_model((64, 64, 1))\n",
        "\n",
        "# instance early stopping\n",
        "early_stopping = EarlyStopping(monitor='val_loss', patience=5, verbose=1, restore_best_weights=True)\n",
        "\n",
        "history = model.fit(\n",
        "    X_train, y_train,\n",
        "    epochs=50,\n",
        "    batch_size=16,\n",
        "    validation_data=(X_val, y_val),\n",
        "    callbacks=[early_stopping]\n",
        ")"
      ]
    },
    {
      "cell_type": "code",
      "execution_count": 9,
      "metadata": {
        "colab": {
          "base_uri": "https://localhost:8080/",
          "height": 468
        },
        "id": "CLpa0cXBT-QK",
        "outputId": "0160559e-66af-4a12-cff5-d8bf12799420"
      },
      "outputs": [
        {
          "data": {
            "image/png": "[encoded data removed]",
            "text/plain": [
              "<Figure size 1000x500 with 2 Axes>"
            ]
          },
          "metadata": {},
          "output_type": "display_data"
        }
      ],
      "source": [
        "acc = history.history['accuracy']\n",
        "val_acc = history.history['val_accuracy']\n",
        "\n",
        "loss = history.history['loss']\n",
        "val_loss = history.history['val_loss']\n",
        "\n",
        "epochs_range = range(len(acc))\n",
        "\n",
        "plt.figure(figsize=(10, 5))\n",
        "plt.subplot(1, 2, 1)\n",
        "plt.plot(epochs_range, acc, label='Training Accuracy')\n",
        "plt.plot(epochs_range, val_acc, label='Validation Accuracy')\n",
        "plt.legend(loc='lower right')\n",
        "plt.title('Training and Validation Accuracy')\n",
        "\n",
        "plt.subplot(1, 2, 2)\n",
        "plt.plot(epochs_range, loss, label='Training Loss')\n",
        "plt.plot(epochs_range, val_loss, label='Validation Loss')\n",
        "plt.legend(loc='upper right')\n",
        "plt.title('Training and Validation Loss')\n",
        "plt.show()"
      ]
    },
    {
      "cell_type": "markdown",
      "metadata": {
        "id": "Fow7O_MwYxRT"
      },
      "source": [
        "# Defensive distilation"
      ]
    },
    {
      "cell_type": "code",
      "execution_count": 10,
      "metadata": {
        "id": "--d4vLkXYw8P"
      },
      "outputs": [],
      "source": [
        "def build_model_dist_teacher(input_shape):\n",
        "    model = Sequential([\n",
        "        Conv2D(32, (3, 3), activation='relu', input_shape=input_shape),\n",
        "        MaxPooling2D(2, 2),\n",
        "        Conv2D(64, (3, 3), activation='relu'),\n",
        "        MaxPooling2D(2, 2),\n",
        "        Flatten(),\n",
        "        Dense(128, activation='relu'),\n",
        "        Dropout(0.25),\n",
        "        Dense(40)\n",
        "    ])\n",
        "    return model\n",
        "\n",
        "def softened_softmax(logits, temperature=1):\n",
        "    soft_max_output = Softmax()(logits / temperature)\n",
        "    return soft_max_output\n",
        "\n",
        "def build_model_dist_student(input_shape, use_softmax=True, temperature=1.0):\n",
        "    model = Sequential([\n",
        "        Conv2D(32, (3, 3), activation='relu', input_shape=input_shape),\n",
        "        MaxPooling2D(2, 2),\n",
        "        Conv2D(64, (3, 3), activation='relu'),\n",
        "        MaxPooling2D(2, 2),\n",
        "        Flatten(),\n",
        "        Dense(128, activation='relu'),\n",
        "        Dropout(0.25),\n",
        "        Dense(40)  # no activation here\n",
        "    ])\n",
        "\n",
        "    if use_softmax:\n",
        "        # softened softmax during training\n",
        "        model.add(Lambda(lambda x: softened_softmax(x, temperature)))\n",
        "    else:\n",
        "        # standard softmax during evaluation\n",
        "        model.add(Softmax())\n",
        "\n",
        "    return model\n"
      ]
    },
    {
      "cell_type": "code",
      "execution_count": 11,
      "metadata": {
        "colab": {
          "base_uri": "https://localhost:8080/"
        },
        "id": "ns1h4KqIZAi4",
        "outputId": "bde24606-8478-4a5a-fe9f-d6fd2a8df83f"
      },
      "outputs": [
        {
          "name": "stdout",
          "output_type": "stream",
          "text": [
            "Epoch 1/50\n",
            "15/15 [==============================] - 1s 19ms/step - loss: 3.7086 - accuracy: 0.0250 - val_loss: 3.6860 - val_accuracy: 0.0375\n",
            "Epoch 2/50\n",
            "15/15 [==============================] - 0s 7ms/step - loss: 3.6443 - accuracy: 0.0875 - val_loss: 3.6805 - val_accuracy: 0.0250\n",
            "Epoch 3/50\n",
            "15/15 [==============================] - 0s 7ms/step - loss: 3.4793 - accuracy: 0.1167 - val_loss: 3.5402 - val_accuracy: 0.0500\n",
            "Epoch 4/50\n",
            "15/15 [==============================] - 0s 7ms/step - loss: 3.1242 - accuracy: 0.1833 - val_loss: 3.2662 - val_accuracy: 0.1375\n",
            "Epoch 5/50\n",
            "15/15 [==============================] - 0s 7ms/step - loss: 2.4932 - accuracy: 0.3958 - val_loss: 2.8186 - val_accuracy: 0.2375\n",
            "Epoch 6/50\n",
            "15/15 [==============================] - 0s 7ms/step - loss: 1.7975 - accuracy: 0.5375 - val_loss: 2.1565 - val_accuracy: 0.5375\n",
            "Epoch 7/50\n",
            "15/15 [==============================] - 0s 7ms/step - loss: 1.2340 - accuracy: 0.6875 - val_loss: 1.5246 - val_accuracy: 0.6125\n",
            "Epoch 8/50\n",
            "15/15 [==============================] - 0s 7ms/step - loss: 0.7835 - accuracy: 0.7917 - val_loss: 1.1047 - val_accuracy: 0.6750\n",
            "Epoch 9/50\n",
            "15/15 [==============================] - 0s 10ms/step - loss: 0.4545 - accuracy: 0.9042 - val_loss: 0.8304 - val_accuracy: 0.7625\n",
            "Epoch 10/50\n",
            "15/15 [==============================] - 0s 7ms/step - loss: 0.4606 - accuracy: 0.8917 - val_loss: 1.0061 - val_accuracy: 0.7500\n",
            "Epoch 11/50\n",
            "15/15 [==============================] - 0s 8ms/step - loss: 0.4477 - accuracy: 0.8958 - val_loss: 0.5589 - val_accuracy: 0.8375\n",
            "Epoch 12/50\n",
            "15/15 [==============================] - 0s 7ms/step - loss: 0.1994 - accuracy: 0.9583 - val_loss: 0.4718 - val_accuracy: 0.8875\n",
            "Epoch 13/50\n",
            "15/15 [==============================] - 0s 7ms/step - loss: 0.2139 - accuracy: 0.9417 - val_loss: 0.5563 - val_accuracy: 0.8750\n",
            "Epoch 14/50\n",
            "15/15 [==============================] - 0s 7ms/step - loss: 0.1552 - accuracy: 0.9667 - val_loss: 0.4269 - val_accuracy: 0.8375\n",
            "Epoch 15/50\n",
            "15/15 [==============================] - 0s 7ms/step - loss: 0.0972 - accuracy: 0.9792 - val_loss: 0.3791 - val_accuracy: 0.9125\n",
            "Epoch 16/50\n",
            "15/15 [==============================] - 0s 6ms/step - loss: 0.0790 - accuracy: 0.9875 - val_loss: 0.4516 - val_accuracy: 0.9125\n",
            "Epoch 17/50\n",
            "15/15 [==============================] - 0s 7ms/step - loss: 0.0808 - accuracy: 0.9917 - val_loss: 0.4251 - val_accuracy: 0.8625\n",
            "Epoch 18/50\n",
            "15/15 [==============================] - 0s 7ms/step - loss: 0.0967 - accuracy: 0.9750 - val_loss: 0.4718 - val_accuracy: 0.8375\n",
            "Epoch 19/50\n",
            "15/15 [==============================] - 0s 7ms/step - loss: 0.0534 - accuracy: 0.9917 - val_loss: 0.3811 - val_accuracy: 0.9000\n",
            "Epoch 20/50\n",
            "15/15 [==============================] - 0s 9ms/step - loss: 0.0757 - accuracy: 0.9792 - val_loss: 0.3040 - val_accuracy: 0.9125\n",
            "Epoch 21/50\n",
            "15/15 [==============================] - 0s 8ms/step - loss: 0.0302 - accuracy: 0.9958 - val_loss: 0.2633 - val_accuracy: 0.9125\n",
            "Epoch 22/50\n",
            "15/15 [==============================] - 0s 6ms/step - loss: 0.0456 - accuracy: 0.9875 - val_loss: 0.2956 - val_accuracy: 0.9250\n",
            "Epoch 23/50\n",
            "15/15 [==============================] - 0s 7ms/step - loss: 0.0587 - accuracy: 0.9875 - val_loss: 0.4133 - val_accuracy: 0.8875\n",
            "Epoch 24/50\n",
            "15/15 [==============================] - 0s 6ms/step - loss: 0.0509 - accuracy: 0.9833 - val_loss: 0.2903 - val_accuracy: 0.9375\n",
            "Epoch 25/50\n",
            "15/15 [==============================] - 0s 7ms/step - loss: 0.0417 - accuracy: 0.9875 - val_loss: 0.4006 - val_accuracy: 0.8750\n",
            "Epoch 26/50\n",
            "14/15 [===========================>..] - ETA: 0s - loss: 0.0646 - accuracy: 0.9866Restoring model weights from the end of the best epoch: 21.\n",
            "15/15 [==============================] - 0s 7ms/step - loss: 0.0626 - accuracy: 0.9875 - val_loss: 0.3895 - val_accuracy: 0.8875\n",
            "Epoch 26: early stopping\n",
            "8/8 [==============================] - 0s 3ms/step\n",
            "Logits Shape: (240, 40)\n"
          ]
        }
      ],
      "source": [
        "loss_dist = SparseCategoricalCrossentropy(from_logits=True)\n",
        "teacher_model = build_model_dist_teacher((64, 64, 1))\n",
        "teacher_model.compile(optimizer='adam', loss=loss_dist, metrics=['accuracy'])\n",
        "teacher_model.fit(\n",
        "    X_train, y_train,\n",
        "    epochs=50,\n",
        "    batch_size=16,\n",
        "    validation_data=(X_val, y_val),\n",
        "    callbacks=[early_stopping]\n",
        ")\n",
        "\n",
        "# get logits from the teacher model\n",
        "logits = teacher_model.predict(X_train)\n",
        "print(\"Logits Shape:\", logits.shape)"
      ]
    },
    {
      "cell_type": "code",
      "execution_count": 12,
      "metadata": {
        "id": "RqwlhYuoq1Lx"
      },
      "outputs": [],
      "source": [
        "student_labels = softened_softmax(logits, temperature=10)"
      ]
    },
    {
      "cell_type": "code",
      "execution_count": 13,
      "metadata": {
        "colab": {
          "base_uri": "https://localhost:8080/"
        },
        "id": "y9zOokldim4q",
        "outputId": "94a610c9-d7d8-4f2d-a0cf-38b62d80d9dd"
      },
      "outputs": [
        {
          "name": "stdout",
          "output_type": "stream",
          "text": [
            "Epoch 1/50\n",
            "15/15 [==============================] - 2s 25ms/step - loss: 3.6864 - accuracy: 0.0333 - val_loss: 3.7066 - val_accuracy: 0.0375\n",
            "Epoch 2/50\n",
            "15/15 [==============================] - 0s 12ms/step - loss: 3.6830 - accuracy: 0.0417 - val_loss: 3.7104 - val_accuracy: 0.0375\n",
            "Epoch 3/50\n",
            "15/15 [==============================] - 0s 10ms/step - loss: 3.6774 - accuracy: 0.0375 - val_loss: 3.6814 - val_accuracy: 0.0500\n",
            "Epoch 4/50\n",
            "15/15 [==============================] - 0s 9ms/step - loss: 3.6693 - accuracy: 0.1000 - val_loss: 3.6185 - val_accuracy: 0.0875\n",
            "Epoch 5/50\n",
            "15/15 [==============================] - 0s 13ms/step - loss: 3.6568 - accuracy: 0.1292 - val_loss: 3.5266 - val_accuracy: 0.1625\n",
            "Epoch 6/50\n",
            "15/15 [==============================] - 0s 10ms/step - loss: 3.6446 - accuracy: 0.2333 - val_loss: 3.4501 - val_accuracy: 0.1375\n",
            "Epoch 7/50\n",
            "15/15 [==============================] - 0s 10ms/step - loss: 3.6328 - accuracy: 0.2958 - val_loss: 3.3567 - val_accuracy: 0.1750\n",
            "Epoch 8/50\n",
            "15/15 [==============================] - 0s 9ms/step - loss: 3.6231 - accuracy: 0.4250 - val_loss: 3.2691 - val_accuracy: 0.2000\n",
            "Epoch 9/50\n",
            "15/15 [==============================] - 0s 14ms/step - loss: 3.6151 - accuracy: 0.5208 - val_loss: 3.2337 - val_accuracy: 0.4125\n",
            "Epoch 10/50\n",
            "15/15 [==============================] - 0s 13ms/step - loss: 3.6097 - accuracy: 0.5583 - val_loss: 3.1593 - val_accuracy: 0.4000\n",
            "Epoch 11/50\n",
            "15/15 [==============================] - 0s 12ms/step - loss: 3.6039 - accuracy: 0.6625 - val_loss: 3.1222 - val_accuracy: 0.4125\n",
            "Epoch 12/50\n",
            "15/15 [==============================] - 0s 10ms/step - loss: 3.5994 - accuracy: 0.7667 - val_loss: 3.0794 - val_accuracy: 0.5250\n",
            "Epoch 13/50\n",
            "15/15 [==============================] - 0s 10ms/step - loss: 3.5995 - accuracy: 0.7375 - val_loss: 3.0487 - val_accuracy: 0.6125\n",
            "Epoch 14/50\n",
            "15/15 [==============================] - 0s 7ms/step - loss: 3.5958 - accuracy: 0.8208 - val_loss: 3.0169 - val_accuracy: 0.6375\n",
            "Epoch 15/50\n",
            "15/15 [==============================] - 0s 7ms/step - loss: 3.5933 - accuracy: 0.8167 - val_loss: 3.0441 - val_accuracy: 0.6375\n",
            "Epoch 16/50\n",
            "15/15 [==============================] - 0s 7ms/step - loss: 3.5942 - accuracy: 0.8375 - val_loss: 2.9682 - val_accuracy: 0.6500\n",
            "Epoch 17/50\n",
            "15/15 [==============================] - 0s 7ms/step - loss: 3.5909 - accuracy: 0.8458 - val_loss: 2.9963 - val_accuracy: 0.6750\n",
            "Epoch 18/50\n",
            "15/15 [==============================] - 0s 8ms/step - loss: 3.5908 - accuracy: 0.8875 - val_loss: 2.9609 - val_accuracy: 0.7125\n",
            "Epoch 19/50\n",
            "15/15 [==============================] - 0s 8ms/step - loss: 3.5884 - accuracy: 0.8875 - val_loss: 2.9451 - val_accuracy: 0.7125\n",
            "Epoch 20/50\n",
            "15/15 [==============================] - 0s 7ms/step - loss: 3.5888 - accuracy: 0.8792 - val_loss: 2.9330 - val_accuracy: 0.7625\n",
            "Epoch 21/50\n",
            "15/15 [==============================] - 0s 6ms/step - loss: 3.5880 - accuracy: 0.9042 - val_loss: 2.9407 - val_accuracy: 0.7500\n",
            "Epoch 22/50\n",
            "15/15 [==============================] - 0s 8ms/step - loss: 3.5870 - accuracy: 0.9042 - val_loss: 2.8885 - val_accuracy: 0.7625\n",
            "Epoch 23/50\n",
            "15/15 [==============================] - 0s 7ms/step - loss: 3.5883 - accuracy: 0.9375 - val_loss: 2.9538 - val_accuracy: 0.7875\n",
            "Epoch 24/50\n",
            "15/15 [==============================] - 0s 7ms/step - loss: 3.5855 - accuracy: 0.9125 - val_loss: 2.8872 - val_accuracy: 0.7625\n",
            "Epoch 25/50\n",
            "15/15 [==============================] - 0s 7ms/step - loss: 3.5849 - accuracy: 0.9292 - val_loss: 2.8606 - val_accuracy: 0.7875\n",
            "Epoch 26/50\n",
            "15/15 [==============================] - 0s 6ms/step - loss: 3.5850 - accuracy: 0.9083 - val_loss: 2.8988 - val_accuracy: 0.7750\n",
            "Epoch 27/50\n",
            "15/15 [==============================] - 0s 8ms/step - loss: 3.5841 - accuracy: 0.9250 - val_loss: 2.8480 - val_accuracy: 0.8000\n",
            "Epoch 28/50\n",
            "15/15 [==============================] - 0s 12ms/step - loss: 3.5826 - accuracy: 0.9417 - val_loss: 2.9185 - val_accuracy: 0.8000\n",
            "Epoch 29/50\n",
            "15/15 [==============================] - 0s 6ms/step - loss: 3.5830 - accuracy: 0.9292 - val_loss: 2.8547 - val_accuracy: 0.7750\n",
            "Epoch 30/50\n",
            "15/15 [==============================] - 0s 7ms/step - loss: 3.5837 - accuracy: 0.9542 - val_loss: 2.8693 - val_accuracy: 0.7875\n",
            "Epoch 31/50\n",
            "15/15 [==============================] - 0s 7ms/step - loss: 3.5817 - accuracy: 0.9500 - val_loss: 2.8611 - val_accuracy: 0.7875\n",
            "Epoch 32/50\n",
            "13/15 [=========================>....] - ETA: 0s - loss: 3.5786 - accuracy: 0.9471Restoring model weights from the end of the best epoch: 27.\n",
            "15/15 [==============================] - 0s 8ms/step - loss: 3.5802 - accuracy: 0.9417 - val_loss: 2.8660 - val_accuracy: 0.7625\n",
            "Epoch 32: early stopping\n"
          ]
        },
        {
          "data": {
            "text/plain": [
              "<keras.src.callbacks.History at 0x7946b0d66e60>"
            ]
          },
          "execution_count": 13,
          "metadata": {},
          "output_type": "execute_result"
        }
      ],
      "source": [
        "student_model = build_model_dist_student(input_shape=(64, 64, 1), use_softmax=True, temperature=10)\n",
        "student_model.compile(optimizer='adam', loss='categorical_crossentropy', metrics=['accuracy'])\n",
        "y_val_dist = to_categorical(y_val, num_classes=40)\n",
        "student_model.fit(\n",
        "    X_train, student_labels,  \n",
        "    validation_data=(X_val, y_val_dist),  \n",
        "    epochs=50,\n",
        "    batch_size=16,\n",
        "    callbacks=[early_stopping]\n",
        ")"
      ]
    },
    {
      "cell_type": "code",
      "execution_count": 14,
      "metadata": {
        "id": "1CjsazW5sbU7"
      },
      "outputs": [],
      "source": [
        "student_model_eval = build_model_dist_student(input_shape=(64, 64, 1), use_softmax=False)\n",
        "student_model_eval.set_weights(student_model.get_weights())  # transfer weights to evaluation model\n",
        "student_model_eval.compile(optimizer='adam', loss='categorical_crossentropy', metrics=['accuracy'])"
      ]
    },
    {
      "cell_type": "code",
      "execution_count": 15,
      "metadata": {
        "id": "38rSvIEmkoce"
      },
      "outputs": [],
      "source": [
        "y_test_dist = to_categorical(y_test, num_classes=40)"
      ]
    },
    {
      "cell_type": "markdown",
      "metadata": {
        "id": "3E2jFU7c4OS_"
      },
      "source": [
        "# Defense against FGSM"
      ]
    },
    {
      "cell_type": "code",
      "execution_count": 16,
      "metadata": {
        "id": "230u_EqfsLC0"
      },
      "outputs": [],
      "source": [
        "loss_func = SparseCategoricalCrossentropy()\n",
        "classifier = TensorFlowV2Classifier(clip_values=(0, 1), model=model, nb_classes=40, input_shape=(64, 64, 1), loss_object=loss_func)\n",
        "attack_fgsm = FastGradientMethod(estimator=classifier, eps=0.01)\n",
        "X_test_fgsm = attack_fgsm.generate(x=X_test)"
      ]
    },
    {
      "cell_type": "code",
      "execution_count": 17,
      "metadata": {
        "colab": {
          "base_uri": "https://localhost:8080/"
        },
        "id": "ChnjsNICh0WT",
        "outputId": "c9083db5-3541-4691-ed57-427f1fd9e07c"
      },
      "outputs": [
        {
          "name": "stdout",
          "output_type": "stream",
          "text": [
            "3/3 [==============================] - 0s 5ms/step - loss: 0.5931 - accuracy: 0.8750\n",
            "3/3 [==============================] - 0s 4ms/step - loss: 0.6565 - accuracy: 0.8500\n",
            "Clean test set loss: 0.59 vs adv test set loss: 0.66\n",
            "Clean test set accuracy: 0.88 vs adv test set accuracy: 0.85\n"
          ]
        }
      ],
      "source": [
        "score_clean = student_model_eval.evaluate(x=X_test, y=y_test_dist)\n",
        "score_fgsm = student_model_eval.evaluate(x=X_test_fgsm, y=y_test_dist)\n",
        "\n",
        "print(f\"Clean test set loss: {score_clean[0]:.2f} \"\n",
        "      f\"vs adv test set loss: {score_fgsm[0]:.2f}\")\n",
        "\n",
        "print(f\"Clean test set accuracy: {score_clean[1]:.2f} \"\n",
        "      f\"vs adv test set accuracy: {score_fgsm[1]:.2f}\")"
      ]
    },
    {
      "cell_type": "markdown",
      "metadata": {
        "id": "-J55nLCJ4d2W"
      },
      "source": [
        "# Defense against IFGSM"
      ]
    },
    {
      "cell_type": "code",
      "execution_count": 21,
      "metadata": {
        "colab": {
          "base_uri": "https://localhost:8080/",
          "height": 17,
          "referenced_widgets": [
            "fec2159e20f545d89b0cfe6240e8a783",
            "c768acf6345542bb9dfc7a5c46e2d797",
            "3c789fb30fbf45bf85a0f7f78a37eef4",
            "75d98529882c4db6921d3b6e6b406b33",
            "bb748fb57f6a43bd823b8ce5f0e5d4f6",
            "c9dea7261cb44fe29bafb7f0243fee98",
            "bba85c1374ab4e7782f6b4e92ba0ccad",
            "b300d37c063941398b34d1a3630df41d",
            "599c8381ee7e4194a533e066da3b2534",
            "61ba743bf91c47cfa0735ed675a5f888",
            "124104809669481387252e3b3d7f240a"
          ]
        },
        "id": "vzR3pk0i4Z69",
        "outputId": "bec3bcfd-e2a6-40c1-a5cf-ea9654d288db"
      },
      "outputs": [
        {
          "data": {
            "application/vnd.jupyter.widget-view+json": {
              "model_id": "fec2159e20f545d89b0cfe6240e8a783",
              "version_major": 2,
              "version_minor": 0
            },
            "text/plain": [
              "PGD - Batches: 0it [00:00, ?it/s]"
            ]
          },
          "metadata": {},
          "output_type": "display_data"
        }
      ],
      "source": [
        "loss_func = SparseCategoricalCrossentropy()\n",
        "classifier = TensorFlowV2Classifier(clip_values=(0, 1), model=model, nb_classes=40, input_shape=(64, 64, 1), loss_object=loss_func)\n",
        "attack_ifgsm = BasicIterativeMethod(estimator=classifier, eps=0.01, eps_step=0.001, max_iter=10)\n",
        "X_test_ifgsm = attack_ifgsm.generate(x=X_test)"
      ]
    },
    {
      "cell_type": "code",
      "execution_count": 22,
      "metadata": {
        "colab": {
          "base_uri": "https://localhost:8080/"
        },
        "id": "VjW3rp1t5CPJ",
        "outputId": "c15d717c-05ee-4ccb-bbc9-9d7a27d4f118"
      },
      "outputs": [
        {
          "name": "stdout",
          "output_type": "stream",
          "text": [
            "3/3 [==============================] - 0s 7ms/step - loss: 0.5931 - accuracy: 0.8750\n",
            "3/3 [==============================] - 0s 6ms/step - loss: 0.6589 - accuracy: 0.8500\n",
            "Clean test set loss: 0.59 vs adv test set loss: 0.66\n",
            "Clean test set accuracy: 0.88 vs adv test set accuracy: 0.85\n"
          ]
        }
      ],
      "source": [
        "score_clean = student_model_eval.evaluate(x=X_test, y=y_test_dist)\n",
        "score_ifgsm = student_model_eval.evaluate(x=X_test_ifgsm, y=y_test_dist)\n",
        "\n",
        "print(f\"Clean test set loss: {score_clean[0]:.2f} \"\n",
        "      f\"vs adv test set loss: {score_ifgsm[0]:.2f}\")\n",
        "\n",
        "print(f\"Clean test set accuracy: {score_clean[1]:.2f} \"\n",
        "      f\"vs adv test set accuracy: {score_ifgsm[1]:.2f}\")"
      ]
    },
    {
      "cell_type": "markdown",
      "metadata": {
        "id": "vMHZW4AN5Xi2"
      },
      "source": [
        "# Defense against CW"
      ]
    },
    {
      "cell_type": "code",
      "execution_count": 24,
      "metadata": {
        "colab": {
          "base_uri": "https://localhost:8080/",
          "height": 49,
          "referenced_widgets": [
            "753c805771a94dd4b73d0b9054ec971e",
            "a60895ebb3e3428bafaea0bbcb9f6091",
            "56913a2f66474f1bb1c477e653648fd5",
            "dd9b94bc0a544f628ab7e8ef24799dc4",
            "83626ad8ab6a481d99f5f4d278a5248b",
            "f10454da63d24f4f95488b099e8aebf8",
            "ae9e831bf4a74bd7a67390f7b603c98d",
            "01194f7ea4d34660885a2ee2e5cd85ca",
            "76eaef4d470f4d05994706c40a792e3f",
            "3ae873ad39ce490e829704de39980407",
            "427fdca8c802401fae9e6332b55cfba2"
          ]
        },
        "id": "wY_YFTLE5xHH",
        "outputId": "6bfbb06a-a3ac-4dfb-9034-fec91fb8895b"
      },
      "outputs": [
        {
          "data": {
            "application/vnd.jupyter.widget-view+json": {
              "model_id": "753c805771a94dd4b73d0b9054ec971e",
              "version_major": 2,
              "version_minor": 0
            },
            "text/plain": [
              "C&W L_2:   0%|          | 0/5 [00:00<?, ?it/s]"
            ]
          },
          "metadata": {},
          "output_type": "display_data"
        }
      ],
      "source": [
        "loss_func = SparseCategoricalCrossentropy()\n",
        "classifier = TensorFlowV2Classifier(clip_values=(0, 1), model=model, nb_classes=40, input_shape=(64, 64, 1), loss_object=loss_func)\n",
        "attack_cw = CarliniL2Method(classifier=classifier, confidence=0.1, batch_size=16, learning_rate=0.01, max_iter=10)\n",
        "X_test_cw = attack_cw.generate(x=X_test)\n"
      ]
    },
    {
      "cell_type": "code",
      "execution_count": 25,
      "metadata": {
        "colab": {
          "base_uri": "https://localhost:8080/"
        },
        "id": "ghxpAwKC57CQ",
        "outputId": "6e6d7580-a380-434a-f7f2-c5cc153d48db"
      },
      "outputs": [
        {
          "name": "stdout",
          "output_type": "stream",
          "text": [
            "3/3 [==============================] - 0s 7ms/step - loss: 0.5931 - accuracy: 0.8750\n",
            "3/3 [==============================] - 0s 6ms/step - loss: 0.7061 - accuracy: 0.8250\n",
            "Clean test set loss: 0.59 vs adv test set loss: 0.71\n",
            "Clean test set accuracy: 0.88 vs adv test set accuracy: 0.82\n"
          ]
        }
      ],
      "source": [
        "score_clean = student_model_eval.evaluate(x=X_test, y=y_test_dist)\n",
        "score_cw = student_model_eval.evaluate(x=X_test_cw, y=y_test_dist)\n",
        "\n",
        "print(f\"Clean test set loss: {score_clean[0]:.2f} \"\n",
        "      f\"vs adv test set loss: {score_cw[0]:.2f}\")\n",
        "\n",
        "print(f\"Clean test set accuracy: {score_clean[1]:.2f} \"\n",
        "      f\"vs adv test set accuracy: {score_cw[1]:.2f}\")"
      ]
    },
    {
      "cell_type": "markdown",
      "metadata": {
        "id": "0Vm6YyY16LRg"
      },
      "source": [
        "# Universal perturbation"
      ]
    },
    {
      "cell_type": "code",
      "execution_count": 28,
      "metadata": {
        "colab": {
          "base_uri": "https://localhost:8080/",
          "height": 49,
          "referenced_widgets": [
            "aa0695ab5a8b49cdab224cbd5cf97861",
            "dbac65c005e24fdabac48d10e3c29703",
            "23c865de950540a7a6858b5b5e803d2a",
            "38a979c6f50e44a786813ab825f1f70a",
            "0d27c8f6dbb1404b8bd3c6fef3e2b320",
            "849509621dee4694893799f768e8b442",
            "654daa22e7214f26a1e41a76b5df7e0d",
            "b0080ef5fc3e4f06b90f58b96f365ad0",
            "befd50ab1102492683fda3cea71589a8",
            "b2db16c703e0438da40806c53fec8d87",
            "6fe4e6e06bc44433970c9d0ddc3a5379"
          ]
        },
        "id": "65GSlKnW6K63",
        "outputId": "5c309138-8159-4db3-edb2-49162b49832f"
      },
      "outputs": [
        {
          "data": {
            "application/vnd.jupyter.widget-view+json": {
              "model_id": "aa0695ab5a8b49cdab224cbd5cf97861",
              "version_major": 2,
              "version_minor": 0
            },
            "text/plain": [
              "Universal perturbation:   0%|          | 0/20 [00:00<?, ?it/s]"
            ]
          },
          "metadata": {},
          "output_type": "display_data"
        }
      ],
      "source": [
        "loss_func = SparseCategoricalCrossentropy()\n",
        "classifier = TensorFlowV2Classifier(clip_values=(0, 1), model=model, nb_classes=40, input_shape=(64, 64, 1), loss_object=loss_func)\n",
        "attack_up = UniversalPerturbation(classifier=classifier, attacker='fgsm', eps=0.01)\n",
        "X_test_up = attack_up.generate(x=X_test)"
      ]
    },
    {
      "cell_type": "code",
      "execution_count": 29,
      "metadata": {
        "colab": {
          "base_uri": "https://localhost:8080/"
        },
        "id": "NICWpBHb6Yxn",
        "outputId": "b5856456-2506-4ccf-cfdc-80e70488914e"
      },
      "outputs": [
        {
          "name": "stdout",
          "output_type": "stream",
          "text": [
            "3/3 [==============================] - 0s 6ms/step - loss: 0.5931 - accuracy: 0.8750\n",
            "3/3 [==============================] - 0s 6ms/step - loss: 0.6028 - accuracy: 0.8750\n",
            "Clean test set loss: 0.59 vs adv test set loss: 0.60\n",
            "Clean test set accuracy: 0.88 vs adv test set accuracy: 0.88\n"
          ]
        }
      ],
      "source": [
        "score_clean = student_model_eval.evaluate(x=X_test, y=y_test_dist)\n",
        "score_up = student_model_eval.evaluate(x=X_test_up, y=y_test_dist)\n",
        "\n",
        "print(f\"Clean test set loss: {score_clean[0]:.2f} \"\n",
        "      f\"vs adv test set loss: {score_up[0]:.2f}\")\n",
        "\n",
        "print(f\"Clean test set accuracy: {score_clean[1]:.2f} \"\n",
        "      f\"vs adv test set accuracy: {score_up[1]:.2f}\")"
      ]
    },
    {
      "cell_type": "code",
      "execution_count": 33,
      "metadata": {
        "colab": {
          "base_uri": "https://localhost:8080/",
          "height": 435
        },
        "id": "N28QC4O_9F_x",
        "outputId": "88e32a8f-c4bb-4ff5-a78a-2e4c2e63854c"
      },
      "outputs": [
        {
          "data": {
            "image/png": "[encoded data removed]",
            "text/plain": [
              "<Figure size 500x500 with 2 Axes>"
            ]
          },
          "metadata": {},
          "output_type": "display_data"
        }
      ],
      "source": [
        "universal_perturbation = X_test_up - X_test\n",
        "\n",
        "# visualize the universal perturbation\n",
        "plt.figure(figsize=(5, 5))\n",
        "plt.title('Universal Perturbation')\n",
        "plt.imshow(universal_perturbation[0, :, :, 0], cmap='gray')\n",
        "plt.colorbar()\n",
        "plt.show()\n"
      ]
    }
  ],
  "metadata": {
    "accelerator": "GPU",
    "colab": {
      "gpuType": "T4",
      "provenance": []
    },
    "kernelspec": {
      "display_name": "Python 3",
      "name": "python3"
    },
    "language_info": {
      "name": "python"
    },
    "widgets": {
      "application/vnd.jupyter.widget-state+json": {
        "01194f7ea4d34660885a2ee2e5cd85ca": {
          "model_module": "@jupyter-widgets/base",
          "model_module_version": "1.2.0",
          "model_name": "LayoutModel",
          "state": {
            "_model_module": "@jupyter-widgets/base",
            "_model_module_version": "1.2.0",
            "_model_name": "LayoutModel",
            "_view_count": null,
            "_view_module": "@jupyter-widgets/base",
            "_view_module_version": "1.2.0",
            "_view_name": "LayoutView",
            "align_content": null,
            "align_items": null,
            "align_self": null,
            "border": null,
            "bottom": null,
            "display": null,
            "flex": null,
            "flex_flow": null,
            "grid_area": null,
            "grid_auto_columns": null,
            "grid_auto_flow": null,
            "grid_auto_rows": null,
            "grid_column": null,
            "grid_gap": null,
            "grid_row": null,
            "grid_template_areas": null,
            "grid_template_columns": null,
            "grid_template_rows": null,
            "height": null,
            "justify_content": null,
            "justify_items": null,
            "left": null,
            "margin": null,
            "max_height": null,
            "max_width": null,
            "min_height": null,
            "min_width": null,
            "object_fit": null,
            "object_position": null,
            "order": null,
            "overflow": null,
            "overflow_x": null,
            "overflow_y": null,
            "padding": null,
            "right": null,
            "top": null,
            "visibility": null,
            "width": null
          }
        },
        "0d27c8f6dbb1404b8bd3c6fef3e2b320": {
          "model_module": "@jupyter-widgets/base",
          "model_module_version": "1.2.0",
          "model_name": "LayoutModel",
          "state": {
            "_model_module": "@jupyter-widgets/base",
            "_model_module_version": "1.2.0",
            "_model_name": "LayoutModel",
            "_view_count": null,
            "_view_module": "@jupyter-widgets/base",
            "_view_module_version": "1.2.0",
            "_view_name": "LayoutView",
            "align_content": null,
            "align_items": null,
            "align_self": null,
            "border": null,
            "bottom": null,
            "display": null,
            "flex": null,
            "flex_flow": null,
            "grid_area": null,
            "grid_auto_columns": null,
            "grid_auto_flow": null,
            "grid_auto_rows": null,
            "grid_column": null,
            "grid_gap": null,
            "grid_row": null,
            "grid_template_areas": null,
            "grid_template_columns": null,
            "grid_template_rows": null,
            "height": null,
            "justify_content": null,
            "justify_items": null,
            "left": null,
            "margin": null,
            "max_height": null,
            "max_width": null,
            "min_height": null,
            "min_width": null,
            "object_fit": null,
            "object_position": null,
            "order": null,
            "overflow": null,
            "overflow_x": null,
            "overflow_y": null,
            "padding": null,
            "right": null,
            "top": null,
            "visibility": null,
            "width": null
          }
        },
        "124104809669481387252e3b3d7f240a": {
          "model_module": "@jupyter-widgets/controls",
          "model_module_version": "1.5.0",
          "model_name": "DescriptionStyleModel",
          "state": {
            "_model_module": "@jupyter-widgets/controls",
            "_model_module_version": "1.5.0",
            "_model_name": "DescriptionStyleModel",
            "_view_count": null,
            "_view_module": "@jupyter-widgets/base",
            "_view_module_version": "1.2.0",
            "_view_name": "StyleView",
            "description_width": ""
          }
        },
        "23c865de950540a7a6858b5b5e803d2a": {
          "model_module": "@jupyter-widgets/controls",
          "model_module_version": "1.5.0",
          "model_name": "FloatProgressModel",
          "state": {
            "_dom_classes": [],
            "_model_module": "@jupyter-widgets/controls",
            "_model_module_version": "1.5.0",
            "_model_name": "FloatProgressModel",
            "_view_count": null,
            "_view_module": "@jupyter-widgets/controls",
            "_view_module_version": "1.5.0",
            "_view_name": "ProgressView",
            "bar_style": "success",
            "description": "",
            "description_tooltip": null,
            "layout": "IPY_MODEL_b0080ef5fc3e4f06b90f58b96f365ad0",
            "max": 20,
            "min": 0,
            "orientation": "horizontal",
            "style": "IPY_MODEL_befd50ab1102492683fda3cea71589a8",
            "value": 20
          }
        },
        "38a979c6f50e44a786813ab825f1f70a": {
          "model_module": "@jupyter-widgets/controls",
          "model_module_version": "1.5.0",
          "model_name": "HTMLModel",
          "state": {
            "_dom_classes": [],
            "_model_module": "@jupyter-widgets/controls",
            "_model_module_version": "1.5.0",
            "_model_name": "HTMLModel",
            "_view_count": null,
            "_view_module": "@jupyter-widgets/controls",
            "_view_module_version": "1.5.0",
            "_view_name": "HTMLView",
            "description": "",
            "description_tooltip": null,
            "layout": "IPY_MODEL_b2db16c703e0438da40806c53fec8d87",
            "placeholder": "​",
            "style": "IPY_MODEL_6fe4e6e06bc44433970c9d0ddc3a5379",
            "value": " 20/20 [00:49&lt;00:00,  2.46s/it]"
          }
        },
        "3ae873ad39ce490e829704de39980407": {
          "model_module": "@jupyter-widgets/base",
          "model_module_version": "1.2.0",
          "model_name": "LayoutModel",
          "state": {
            "_model_module": "@jupyter-widgets/base",
            "_model_module_version": "1.2.0",
            "_model_name": "LayoutModel",
            "_view_count": null,
            "_view_module": "@jupyter-widgets/base",
            "_view_module_version": "1.2.0",
            "_view_name": "LayoutView",
            "align_content": null,
            "align_items": null,
            "align_self": null,
            "border": null,
            "bottom": null,
            "display": null,
            "flex": null,
            "flex_flow": null,
            "grid_area": null,
            "grid_auto_columns": null,
            "grid_auto_flow": null,
            "grid_auto_rows": null,
            "grid_column": null,
            "grid_gap": null,
            "grid_row": null,
            "grid_template_areas": null,
            "grid_template_columns": null,
            "grid_template_rows": null,
            "height": null,
            "justify_content": null,
            "justify_items": null,
            "left": null,
            "margin": null,
            "max_height": null,
            "max_width": null,
            "min_height": null,
            "min_width": null,
            "object_fit": null,
            "object_position": null,
            "order": null,
            "overflow": null,
            "overflow_x": null,
            "overflow_y": null,
            "padding": null,
            "right": null,
            "top": null,
            "visibility": null,
            "width": null
          }
        },
        "3c789fb30fbf45bf85a0f7f78a37eef4": {
          "model_module": "@jupyter-widgets/controls",
          "model_module_version": "1.5.0",
          "model_name": "FloatProgressModel",
          "state": {
            "_dom_classes": [],
            "_model_module": "@jupyter-widgets/controls",
            "_model_module_version": "1.5.0",
            "_model_name": "FloatProgressModel",
            "_view_count": null,
            "_view_module": "@jupyter-widgets/controls",
            "_view_module_version": "1.5.0",
            "_view_name": "ProgressView",
            "bar_style": "info",
            "description": "",
            "description_tooltip": null,
            "layout": "IPY_MODEL_b300d37c063941398b34d1a3630df41d",
            "max": 1,
            "min": 0,
            "orientation": "horizontal",
            "style": "IPY_MODEL_599c8381ee7e4194a533e066da3b2534",
            "value": 1
          }
        },
        "427fdca8c802401fae9e6332b55cfba2": {
          "model_module": "@jupyter-widgets/controls",
          "model_module_version": "1.5.0",
          "model_name": "DescriptionStyleModel",
          "state": {
            "_model_module": "@jupyter-widgets/controls",
            "_model_module_version": "1.5.0",
            "_model_name": "DescriptionStyleModel",
            "_view_count": null,
            "_view_module": "@jupyter-widgets/base",
            "_view_module_version": "1.2.0",
            "_view_name": "StyleView",
            "description_width": ""
          }
        },
        "56913a2f66474f1bb1c477e653648fd5": {
          "model_module": "@jupyter-widgets/controls",
          "model_module_version": "1.5.0",
          "model_name": "FloatProgressModel",
          "state": {
            "_dom_classes": [],
            "_model_module": "@jupyter-widgets/controls",
            "_model_module_version": "1.5.0",
            "_model_name": "FloatProgressModel",
            "_view_count": null,
            "_view_module": "@jupyter-widgets/controls",
            "_view_module_version": "1.5.0",
            "_view_name": "ProgressView",
            "bar_style": "success",
            "description": "",
            "description_tooltip": null,
            "layout": "IPY_MODEL_01194f7ea4d34660885a2ee2e5cd85ca",
            "max": 5,
            "min": 0,
            "orientation": "horizontal",
            "style": "IPY_MODEL_76eaef4d470f4d05994706c40a792e3f",
            "value": 5
          }
        },
        "599c8381ee7e4194a533e066da3b2534": {
          "model_module": "@jupyter-widgets/controls",
          "model_module_version": "1.5.0",
          "model_name": "ProgressStyleModel",
          "state": {
            "_model_module": "@jupyter-widgets/controls",
            "_model_module_version": "1.5.0",
            "_model_name": "ProgressStyleModel",
            "_view_count": null,
            "_view_module": "@jupyter-widgets/base",
            "_view_module_version": "1.2.0",
            "_view_name": "StyleView",
            "bar_color": null,
            "description_width": ""
          }
        },
        "61ba743bf91c47cfa0735ed675a5f888": {
          "model_module": "@jupyter-widgets/base",
          "model_module_version": "1.2.0",
          "model_name": "LayoutModel",
          "state": {
            "_model_module": "@jupyter-widgets/base",
            "_model_module_version": "1.2.0",
            "_model_name": "LayoutModel",
            "_view_count": null,
            "_view_module": "@jupyter-widgets/base",
            "_view_module_version": "1.2.0",
            "_view_name": "LayoutView",
            "align_content": null,
            "align_items": null,
            "align_self": null,
            "border": null,
            "bottom": null,
            "display": null,
            "flex": null,
            "flex_flow": null,
            "grid_area": null,
            "grid_auto_columns": null,
            "grid_auto_flow": null,
            "grid_auto_rows": null,
            "grid_column": null,
            "grid_gap": null,
            "grid_row": null,
            "grid_template_areas": null,
            "grid_template_columns": null,
            "grid_template_rows": null,
            "height": null,
            "justify_content": null,
            "justify_items": null,
            "left": null,
            "margin": null,
            "max_height": null,
            "max_width": null,
            "min_height": null,
            "min_width": null,
            "object_fit": null,
            "object_position": null,
            "order": null,
            "overflow": null,
            "overflow_x": null,
            "overflow_y": null,
            "padding": null,
            "right": null,
            "top": null,
            "visibility": null,
            "width": null
          }
        },
        "654daa22e7214f26a1e41a76b5df7e0d": {
          "model_module": "@jupyter-widgets/controls",
          "model_module_version": "1.5.0",
          "model_name": "DescriptionStyleModel",
          "state": {
            "_model_module": "@jupyter-widgets/controls",
            "_model_module_version": "1.5.0",
            "_model_name": "DescriptionStyleModel",
            "_view_count": null,
            "_view_module": "@jupyter-widgets/base",
            "_view_module_version": "1.2.0",
            "_view_name": "StyleView",
            "description_width": ""
          }
        },
        "6fe4e6e06bc44433970c9d0ddc3a5379": {
          "model_module": "@jupyter-widgets/controls",
          "model_module_version": "1.5.0",
          "model_name": "DescriptionStyleModel",
          "state": {
            "_model_module": "@jupyter-widgets/controls",
            "_model_module_version": "1.5.0",
            "_model_name": "DescriptionStyleModel",
            "_view_count": null,
            "_view_module": "@jupyter-widgets/base",
            "_view_module_version": "1.2.0",
            "_view_name": "StyleView",
            "description_width": ""
          }
        },
        "753c805771a94dd4b73d0b9054ec971e": {
          "model_module": "@jupyter-widgets/controls",
          "model_module_version": "1.5.0",
          "model_name": "HBoxModel",
          "state": {
            "_dom_classes": [],
            "_model_module": "@jupyter-widgets/controls",
            "_model_module_version": "1.5.0",
            "_model_name": "HBoxModel",
            "_view_count": null,
            "_view_module": "@jupyter-widgets/controls",
            "_view_module_version": "1.5.0",
            "_view_name": "HBoxView",
            "box_style": "",
            "children": [
              "IPY_MODEL_a60895ebb3e3428bafaea0bbcb9f6091",
              "IPY_MODEL_56913a2f66474f1bb1c477e653648fd5",
              "IPY_MODEL_dd9b94bc0a544f628ab7e8ef24799dc4"
            ],
            "layout": "IPY_MODEL_83626ad8ab6a481d99f5f4d278a5248b"
          }
        },
        "75d98529882c4db6921d3b6e6b406b33": {
          "model_module": "@jupyter-widgets/controls",
          "model_module_version": "1.5.0",
          "model_name": "HTMLModel",
          "state": {
            "_dom_classes": [],
            "_model_module": "@jupyter-widgets/controls",
            "_model_module_version": "1.5.0",
            "_model_name": "HTMLModel",
            "_view_count": null,
            "_view_module": "@jupyter-widgets/controls",
            "_view_module_version": "1.5.0",
            "_view_name": "HTMLView",
            "description": "",
            "description_tooltip": null,
            "layout": "IPY_MODEL_61ba743bf91c47cfa0735ed675a5f888",
            "placeholder": "​",
            "style": "IPY_MODEL_124104809669481387252e3b3d7f240a",
            "value": " 3/? [00:00&lt;00:00,  5.64it/s]"
          }
        },
        "76eaef4d470f4d05994706c40a792e3f": {
          "model_module": "@jupyter-widgets/controls",
          "model_module_version": "1.5.0",
          "model_name": "ProgressStyleModel",
          "state": {
            "_model_module": "@jupyter-widgets/controls",
            "_model_module_version": "1.5.0",
            "_model_name": "ProgressStyleModel",
            "_view_count": null,
            "_view_module": "@jupyter-widgets/base",
            "_view_module_version": "1.2.0",
            "_view_name": "StyleView",
            "bar_color": null,
            "description_width": ""
          }
        },
        "83626ad8ab6a481d99f5f4d278a5248b": {
          "model_module": "@jupyter-widgets/base",
          "model_module_version": "1.2.0",
          "model_name": "LayoutModel",
          "state": {
            "_model_module": "@jupyter-widgets/base",
            "_model_module_version": "1.2.0",
            "_model_name": "LayoutModel",
            "_view_count": null,
            "_view_module": "@jupyter-widgets/base",
            "_view_module_version": "1.2.0",
            "_view_name": "LayoutView",
            "align_content": null,
            "align_items": null,
            "align_self": null,
            "border": null,
            "bottom": null,
            "display": null,
            "flex": null,
            "flex_flow": null,
            "grid_area": null,
            "grid_auto_columns": null,
            "grid_auto_flow": null,
            "grid_auto_rows": null,
            "grid_column": null,
            "grid_gap": null,
            "grid_row": null,
            "grid_template_areas": null,
            "grid_template_columns": null,
            "grid_template_rows": null,
            "height": null,
            "justify_content": null,
            "justify_items": null,
            "left": null,
            "margin": null,
            "max_height": null,
            "max_width": null,
            "min_height": null,
            "min_width": null,
            "object_fit": null,
            "object_position": null,
            "order": null,
            "overflow": null,
            "overflow_x": null,
            "overflow_y": null,
            "padding": null,
            "right": null,
            "top": null,
            "visibility": null,
            "width": null
          }
        },
        "849509621dee4694893799f768e8b442": {
          "model_module": "@jupyter-widgets/base",
          "model_module_version": "1.2.0",
          "model_name": "LayoutModel",
          "state": {
            "_model_module": "@jupyter-widgets/base",
            "_model_module_version": "1.2.0",
            "_model_name": "LayoutModel",
            "_view_count": null,
            "_view_module": "@jupyter-widgets/base",
            "_view_module_version": "1.2.0",
            "_view_name": "LayoutView",
            "align_content": null,
            "align_items": null,
            "align_self": null,
            "border": null,
            "bottom": null,
            "display": null,
            "flex": null,
            "flex_flow": null,
            "grid_area": null,
            "grid_auto_columns": null,
            "grid_auto_flow": null,
            "grid_auto_rows": null,
            "grid_column": null,
            "grid_gap": null,
            "grid_row": null,
            "grid_template_areas": null,
            "grid_template_columns": null,
            "grid_template_rows": null,
            "height": null,
            "justify_content": null,
            "justify_items": null,
            "left": null,
            "margin": null,
            "max_height": null,
            "max_width": null,
            "min_height": null,
            "min_width": null,
            "object_fit": null,
            "object_position": null,
            "order": null,
            "overflow": null,
            "overflow_x": null,
            "overflow_y": null,
            "padding": null,
            "right": null,
            "top": null,
            "visibility": null,
            "width": null
          }
        },
        "a60895ebb3e3428bafaea0bbcb9f6091": {
          "model_module": "@jupyter-widgets/controls",
          "model_module_version": "1.5.0",
          "model_name": "HTMLModel",
          "state": {
            "_dom_classes": [],
            "_model_module": "@jupyter-widgets/controls",
            "_model_module_version": "1.5.0",
            "_model_name": "HTMLModel",
            "_view_count": null,
            "_view_module": "@jupyter-widgets/controls",
            "_view_module_version": "1.5.0",
            "_view_name": "HTMLView",
            "description": "",
            "description_tooltip": null,
            "layout": "IPY_MODEL_f10454da63d24f4f95488b099e8aebf8",
            "placeholder": "​",
            "style": "IPY_MODEL_ae9e831bf4a74bd7a67390f7b603c98d",
            "value": "C&amp;W L_2: 100%"
          }
        },
        "aa0695ab5a8b49cdab224cbd5cf97861": {
          "model_module": "@jupyter-widgets/controls",
          "model_module_version": "1.5.0",
          "model_name": "HBoxModel",
          "state": {
            "_dom_classes": [],
            "_model_module": "@jupyter-widgets/controls",
            "_model_module_version": "1.5.0",
            "_model_name": "HBoxModel",
            "_view_count": null,
            "_view_module": "@jupyter-widgets/controls",
            "_view_module_version": "1.5.0",
            "_view_name": "HBoxView",
            "box_style": "",
            "children": [
              "IPY_MODEL_dbac65c005e24fdabac48d10e3c29703",
              "IPY_MODEL_23c865de950540a7a6858b5b5e803d2a",
              "IPY_MODEL_38a979c6f50e44a786813ab825f1f70a"
            ],
            "layout": "IPY_MODEL_0d27c8f6dbb1404b8bd3c6fef3e2b320"
          }
        },
        "ae9e831bf4a74bd7a67390f7b603c98d": {
          "model_module": "@jupyter-widgets/controls",
          "model_module_version": "1.5.0",
          "model_name": "DescriptionStyleModel",
          "state": {
            "_model_module": "@jupyter-widgets/controls",
            "_model_module_version": "1.5.0",
            "_model_name": "DescriptionStyleModel",
            "_view_count": null,
            "_view_module": "@jupyter-widgets/base",
            "_view_module_version": "1.2.0",
            "_view_name": "StyleView",
            "description_width": ""
          }
        },
        "b0080ef5fc3e4f06b90f58b96f365ad0": {
          "model_module": "@jupyter-widgets/base",
          "model_module_version": "1.2.0",
          "model_name": "LayoutModel",
          "state": {
            "_model_module": "@jupyter-widgets/base",
            "_model_module_version": "1.2.0",
            "_model_name": "LayoutModel",
            "_view_count": null,
            "_view_module": "@jupyter-widgets/base",
            "_view_module_version": "1.2.0",
            "_view_name": "LayoutView",
            "align_content": null,
            "align_items": null,
            "align_self": null,
            "border": null,
            "bottom": null,
            "display": null,
            "flex": null,
            "flex_flow": null,
            "grid_area": null,
            "grid_auto_columns": null,
            "grid_auto_flow": null,
            "grid_auto_rows": null,
            "grid_column": null,
            "grid_gap": null,
            "grid_row": null,
            "grid_template_areas": null,
            "grid_template_columns": null,
            "grid_template_rows": null,
            "height": null,
            "justify_content": null,
            "justify_items": null,
            "left": null,
            "margin": null,
            "max_height": null,
            "max_width": null,
            "min_height": null,
            "min_width": null,
            "object_fit": null,
            "object_position": null,
            "order": null,
            "overflow": null,
            "overflow_x": null,
            "overflow_y": null,
            "padding": null,
            "right": null,
            "top": null,
            "visibility": null,
            "width": null
          }
        },
        "b2db16c703e0438da40806c53fec8d87": {
          "model_module": "@jupyter-widgets/base",
          "model_module_version": "1.2.0",
          "model_name": "LayoutModel",
          "state": {
            "_model_module": "@jupyter-widgets/base",
            "_model_module_version": "1.2.0",
            "_model_name": "LayoutModel",
            "_view_count": null,
            "_view_module": "@jupyter-widgets/base",
            "_view_module_version": "1.2.0",
            "_view_name": "LayoutView",
            "align_content": null,
            "align_items": null,
            "align_self": null,
            "border": null,
            "bottom": null,
            "display": null,
            "flex": null,
            "flex_flow": null,
            "grid_area": null,
            "grid_auto_columns": null,
            "grid_auto_flow": null,
            "grid_auto_rows": null,
            "grid_column": null,
            "grid_gap": null,
            "grid_row": null,
            "grid_template_areas": null,
            "grid_template_columns": null,
            "grid_template_rows": null,
            "height": null,
            "justify_content": null,
            "justify_items": null,
            "left": null,
            "margin": null,
            "max_height": null,
            "max_width": null,
            "min_height": null,
            "min_width": null,
            "object_fit": null,
            "object_position": null,
            "order": null,
            "overflow": null,
            "overflow_x": null,
            "overflow_y": null,
            "padding": null,
            "right": null,
            "top": null,
            "visibility": null,
            "width": null
          }
        },
        "b300d37c063941398b34d1a3630df41d": {
          "model_module": "@jupyter-widgets/base",
          "model_module_version": "1.2.0",
          "model_name": "LayoutModel",
          "state": {
            "_model_module": "@jupyter-widgets/base",
            "_model_module_version": "1.2.0",
            "_model_name": "LayoutModel",
            "_view_count": null,
            "_view_module": "@jupyter-widgets/base",
            "_view_module_version": "1.2.0",
            "_view_name": "LayoutView",
            "align_content": null,
            "align_items": null,
            "align_self": null,
            "border": null,
            "bottom": null,
            "display": null,
            "flex": null,
            "flex_flow": null,
            "grid_area": null,
            "grid_auto_columns": null,
            "grid_auto_flow": null,
            "grid_auto_rows": null,
            "grid_column": null,
            "grid_gap": null,
            "grid_row": null,
            "grid_template_areas": null,
            "grid_template_columns": null,
            "grid_template_rows": null,
            "height": null,
            "justify_content": null,
            "justify_items": null,
            "left": null,
            "margin": null,
            "max_height": null,
            "max_width": null,
            "min_height": null,
            "min_width": null,
            "object_fit": null,
            "object_position": null,
            "order": null,
            "overflow": null,
            "overflow_x": null,
            "overflow_y": null,
            "padding": null,
            "right": null,
            "top": null,
            "visibility": null,
            "width": "20px"
          }
        },
        "bb748fb57f6a43bd823b8ce5f0e5d4f6": {
          "model_module": "@jupyter-widgets/base",
          "model_module_version": "1.2.0",
          "model_name": "LayoutModel",
          "state": {
            "_model_module": "@jupyter-widgets/base",
            "_model_module_version": "1.2.0",
            "_model_name": "LayoutModel",
            "_view_count": null,
            "_view_module": "@jupyter-widgets/base",
            "_view_module_version": "1.2.0",
            "_view_name": "LayoutView",
            "align_content": null,
            "align_items": null,
            "align_self": null,
            "border": null,
            "bottom": null,
            "display": null,
            "flex": null,
            "flex_flow": null,
            "grid_area": null,
            "grid_auto_columns": null,
            "grid_auto_flow": null,
            "grid_auto_rows": null,
            "grid_column": null,
            "grid_gap": null,
            "grid_row": null,
            "grid_template_areas": null,
            "grid_template_columns": null,
            "grid_template_rows": null,
            "height": null,
            "justify_content": null,
            "justify_items": null,
            "left": null,
            "margin": null,
            "max_height": null,
            "max_width": null,
            "min_height": null,
            "min_width": null,
            "object_fit": null,
            "object_position": null,
            "order": null,
            "overflow": null,
            "overflow_x": null,
            "overflow_y": null,
            "padding": null,
            "right": null,
            "top": null,
            "visibility": "hidden",
            "width": null
          }
        },
        "bba85c1374ab4e7782f6b4e92ba0ccad": {
          "model_module": "@jupyter-widgets/controls",
          "model_module_version": "1.5.0",
          "model_name": "DescriptionStyleModel",
          "state": {
            "_model_module": "@jupyter-widgets/controls",
            "_model_module_version": "1.5.0",
            "_model_name": "DescriptionStyleModel",
            "_view_count": null,
            "_view_module": "@jupyter-widgets/base",
            "_view_module_version": "1.2.0",
            "_view_name": "StyleView",
            "description_width": ""
          }
        },
        "befd50ab1102492683fda3cea71589a8": {
          "model_module": "@jupyter-widgets/controls",
          "model_module_version": "1.5.0",
          "model_name": "ProgressStyleModel",
          "state": {
            "_model_module": "@jupyter-widgets/controls",
            "_model_module_version": "1.5.0",
            "_model_name": "ProgressStyleModel",
            "_view_count": null,
            "_view_module": "@jupyter-widgets/base",
            "_view_module_version": "1.2.0",
            "_view_name": "StyleView",
            "bar_color": null,
            "description_width": ""
          }
        },
        "c768acf6345542bb9dfc7a5c46e2d797": {
          "model_module": "@jupyter-widgets/controls",
          "model_module_version": "1.5.0",
          "model_name": "HTMLModel",
          "state": {
            "_dom_classes": [],
            "_model_module": "@jupyter-widgets/controls",
            "_model_module_version": "1.5.0",
            "_model_name": "HTMLModel",
            "_view_count": null,
            "_view_module": "@jupyter-widgets/controls",
            "_view_module_version": "1.5.0",
            "_view_name": "HTMLView",
            "description": "",
            "description_tooltip": null,
            "layout": "IPY_MODEL_c9dea7261cb44fe29bafb7f0243fee98",
            "placeholder": "​",
            "style": "IPY_MODEL_bba85c1374ab4e7782f6b4e92ba0ccad",
            "value": "PGD - Batches: "
          }
        },
        "c9dea7261cb44fe29bafb7f0243fee98": {
          "model_module": "@jupyter-widgets/base",
          "model_module_version": "1.2.0",
          "model_name": "LayoutModel",
          "state": {
            "_model_module": "@jupyter-widgets/base",
            "_model_module_version": "1.2.0",
            "_model_name": "LayoutModel",
            "_view_count": null,
            "_view_module": "@jupyter-widgets/base",
            "_view_module_version": "1.2.0",
            "_view_name": "LayoutView",
            "align_content": null,
            "align_items": null,
            "align_self": null,
            "border": null,
            "bottom": null,
            "display": null,
            "flex": null,
            "flex_flow": null,
            "grid_area": null,
            "grid_auto_columns": null,
            "grid_auto_flow": null,
            "grid_auto_rows": null,
            "grid_column": null,
            "grid_gap": null,
            "grid_row": null,
            "grid_template_areas": null,
            "grid_template_columns": null,
            "grid_template_rows": null,
            "height": null,
            "justify_content": null,
            "justify_items": null,
            "left": null,
            "margin": null,
            "max_height": null,
            "max_width": null,
            "min_height": null,
            "min_width": null,
            "object_fit": null,
            "object_position": null,
            "order": null,
            "overflow": null,
            "overflow_x": null,
            "overflow_y": null,
            "padding": null,
            "right": null,
            "top": null,
            "visibility": null,
            "width": null
          }
        },
        "dbac65c005e24fdabac48d10e3c29703": {
          "model_module": "@jupyter-widgets/controls",
          "model_module_version": "1.5.0",
          "model_name": "HTMLModel",
          "state": {
            "_dom_classes": [],
            "_model_module": "@jupyter-widgets/controls",
            "_model_module_version": "1.5.0",
            "_model_name": "HTMLModel",
            "_view_count": null,
            "_view_module": "@jupyter-widgets/controls",
            "_view_module_version": "1.5.0",
            "_view_name": "HTMLView",
            "description": "",
            "description_tooltip": null,
            "layout": "IPY_MODEL_849509621dee4694893799f768e8b442",
            "placeholder": "​",
            "style": "IPY_MODEL_654daa22e7214f26a1e41a76b5df7e0d",
            "value": "Universal perturbation: 100%"
          }
        },
        "dd9b94bc0a544f628ab7e8ef24799dc4": {
          "model_module": "@jupyter-widgets/controls",
          "model_module_version": "1.5.0",
          "model_name": "HTMLModel",
          "state": {
            "_dom_classes": [],
            "_model_module": "@jupyter-widgets/controls",
            "_model_module_version": "1.5.0",
            "_model_name": "HTMLModel",
            "_view_count": null,
            "_view_module": "@jupyter-widgets/controls",
            "_view_module_version": "1.5.0",
            "_view_name": "HTMLView",
            "description": "",
            "description_tooltip": null,
            "layout": "IPY_MODEL_3ae873ad39ce490e829704de39980407",
            "placeholder": "​",
            "style": "IPY_MODEL_427fdca8c802401fae9e6332b55cfba2",
            "value": " 5/5 [03:15&lt;00:00, 39.71s/it]"
          }
        },
        "f10454da63d24f4f95488b099e8aebf8": {
          "model_module": "@jupyter-widgets/base",
          "model_module_version": "1.2.0",
          "model_name": "LayoutModel",
          "state": {
            "_model_module": "@jupyter-widgets/base",
            "_model_module_version": "1.2.0",
            "_model_name": "LayoutModel",
            "_view_count": null,
            "_view_module": "@jupyter-widgets/base",
            "_view_module_version": "1.2.0",
            "_view_name": "LayoutView",
            "align_content": null,
            "align_items": null,
            "align_self": null,
            "border": null,
            "bottom": null,
            "display": null,
            "flex": null,
            "flex_flow": null,
            "grid_area": null,
            "grid_auto_columns": null,
            "grid_auto_flow": null,
            "grid_auto_rows": null,
            "grid_column": null,
            "grid_gap": null,
            "grid_row": null,
            "grid_template_areas": null,
            "grid_template_columns": null,
            "grid_template_rows": null,
            "height": null,
            "justify_content": null,
            "justify_items": null,
            "left": null,
            "margin": null,
            "max_height": null,
            "max_width": null,
            "min_height": null,
            "min_width": null,
            "object_fit": null,
            "object_position": null,
            "order": null,
            "overflow": null,
            "overflow_x": null,
            "overflow_y": null,
            "padding": null,
            "right": null,
            "top": null,
            "visibility": null,
            "width": null
          }
        },
        "fec2159e20f545d89b0cfe6240e8a783": {
          "model_module": "@jupyter-widgets/controls",
          "model_module_version": "1.5.0",
          "model_name": "HBoxModel",
          "state": {
            "_dom_classes": [],
            "_model_module": "@jupyter-widgets/controls",
            "_model_module_version": "1.5.0",
            "_model_name": "HBoxModel",
            "_view_count": null,
            "_view_module": "@jupyter-widgets/controls",
            "_view_module_version": "1.5.0",
            "_view_name": "HBoxView",
            "box_style": "",
            "children": [
              "IPY_MODEL_c768acf6345542bb9dfc7a5c46e2d797",
              "IPY_MODEL_3c789fb30fbf45bf85a0f7f78a37eef4",
              "IPY_MODEL_75d98529882c4db6921d3b6e6b406b33"
            ],
            "layout": "IPY_MODEL_bb748fb57f6a43bd823b8ce5f0e5d4f6"
          }
        }
      }
    }
  },
  "nbformat": 4,
  "nbformat_minor": 0
}
